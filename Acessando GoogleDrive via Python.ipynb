{
 "cells": [
  {
   "cell_type": "code",
   "execution_count": 20,
   "metadata": {},
   "outputs": [
    {
     "data": {
      "text/plain": [
       "'OK'"
      ]
     },
     "execution_count": 20,
     "metadata": {},
     "output_type": "execute_result"
    }
   ],
   "source": [
    "# Trabalhando com recurso da Biblioteca\n",
    "\n",
    "import pyautogui\n",
    "import time\n",
    "\n",
    "pyautogui.alert('O código vai começar. Não use nada do seu computador, enquanto o código estiver rodando')\n",
    "pyautogui.PAUSE = 0.5         # delay para cada linha de código\n",
    "pyautogui.press('win')        # Aperte a Tecla do Windows\n",
    "                              #Lista de comandos do teclado\n",
    "                              # pyautogui.KEYBOARD_KEYS\n",
    "                              # Escrevendo com o teclado\n",
    "\n",
    "pyautogui.write('chrome')     # Escreva Chrome\n",
    "pyautogui.press('enter')      # Aperte a Tecla Enter\n",
    "time.sleep(1)\n",
    "pyautogui.write('https://drive.google.com/drive/my-drive')\n",
    "pyautogui.press('enter')\n",
    "\n",
    "\n",
    "                              # Acessando nossa área de trabalho\n",
    "pyautogui.hotkey('win', 'd')\n",
    "\n",
    "                              # Movendo arquivo para o Google Drive\n",
    "pyautogui.moveTo(1317, 681)   # Identificando a localização do Arquivo\n",
    "pyautogui.mouseDown()         # Precionando o mouve\n",
    "pyautogui.moveTo(428, 612)    # Lanrgando o arquivo no Google Drive\n",
    "pyautogui.hotkey('alt','tab')\n",
    "pyautogui.sleep(5)\n",
    "pyautogui.mouseUp()\n",
    "time.sleep(5)\n",
    "pyautogui.alert('O código terminou.Pode usar o computador')\n",
    "\n",
    "\n",
    "\n"
   ]
  },
  {
   "cell_type": "code",
   "execution_count": 19,
   "metadata": {},
   "outputs": [
    {
     "data": {
      "text/plain": [
       "Point(x=428, y=612)"
      ]
     },
     "execution_count": 19,
     "metadata": {},
     "output_type": "execute_result"
    }
   ],
   "source": [
    "pyautogui.position()"
   ]
  }
 ],
 "metadata": {
  "kernelspec": {
   "display_name": "Python 3",
   "language": "python",
   "name": "python3"
  },
  "language_info": {
   "codemirror_mode": {
    "name": "ipython",
    "version": 3
   },
   "file_extension": ".py",
   "mimetype": "text/x-python",
   "name": "python",
   "nbconvert_exporter": "python",
   "pygments_lexer": "ipython3",
   "version": "3.8.5"
  }
 },
 "nbformat": 4,
 "nbformat_minor": 4
}
